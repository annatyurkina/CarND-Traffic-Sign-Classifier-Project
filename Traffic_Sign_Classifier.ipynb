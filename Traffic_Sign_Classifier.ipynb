{
 "cells": [
  {
   "cell_type": "markdown",
   "metadata": {},
   "source": [
    "# Self-Driving Car Engineer Nanodegree\n",
    "\n",
    "## Deep Learning\n",
    "\n",
    "## Project: Build a Traffic Sign Recognition Classifier\n",
    "\n",
    "In this notebook, a template is provided for you to implement your functionality in stages which is required to successfully complete this project. If additional code is required that cannot be included in the notebook, be sure that the Python code is successfully imported and included in your submission, if necessary. Sections that begin with **'Implementation'** in the header indicate where you should begin your implementation for your project. Note that some sections of implementation are optional, and will be marked with **'Optional'** in the header.\n",
    "\n",
    "In addition to implementing code, there will be questions that you must answer which relate to the project and your implementation. Each section where you will answer a question is preceded by a **'Question'** header. Carefully read each question and provide thorough answers in the following text boxes that begin with **'Answer:'**. Your project submission will be evaluated based on your answers to each of the questions and the implementation you provide.\n",
    "\n",
    ">**Note:** Code and Markdown cells can be executed using the **Shift + Enter** keyboard shortcut. In addition, Markdown cells can be edited by typically double-clicking the cell to enter edit mode."
   ]
  },
  {
   "cell_type": "markdown",
   "metadata": {},
   "source": [
    "---\n",
    "## Step 0: Load The Data"
   ]
  },
  {
   "cell_type": "code",
   "execution_count": 1,
   "metadata": {
    "collapsed": false
   },
   "outputs": [],
   "source": [
    "# Load pickled data\n",
    "import pickle\n",
    "\n",
    "# TODO: Fill this in based on where you saved the training and testing data\n",
    "\n",
    "training_file = '../train.p'\n",
    "testing_file = '../test.p'\n",
    "\n",
    "with open(training_file, mode='rb') as f:\n",
    "    train = pickle.load(f)\n",
    "with open(testing_file, mode='rb') as f:\n",
    "    test = pickle.load(f)\n",
    "    \n",
    "X_train, y_train = train['features'], train['labels']\n",
    "X_test, y_test = test['features'], test['labels']"
   ]
  },
  {
   "cell_type": "markdown",
   "metadata": {},
   "source": [
    "---\n",
    "\n",
    "## Step 1: Dataset Summary & Exploration\n",
    "\n",
    "The pickled data is a dictionary with 4 key/value pairs:\n",
    "\n",
    "- `'features'` is a 4D array containing raw pixel data of the traffic sign images, (num examples, width, height, channels).\n",
    "- `'labels'` is a 2D array containing the label/class id of the traffic sign. The file `signnames.csv` contains id -> name mappings for each id.\n",
    "- `'sizes'` is a list containing tuples, (width, height) representing the the original width and height the image.\n",
    "- `'coords'` is a list containing tuples, (x1, y1, x2, y2) representing coordinates of a bounding box around the sign in the image. **THESE COORDINATES ASSUME THE ORIGINAL IMAGE. THE PICKLED DATA CONTAINS RESIZED VERSIONS (32 by 32) OF THESE IMAGES**\n",
    "\n",
    "Complete the basic data summary below."
   ]
  },
  {
   "cell_type": "code",
   "execution_count": 2,
   "metadata": {
    "collapsed": false
   },
   "outputs": [
    {
     "name": "stdout",
     "output_type": "stream",
     "text": [
      "Number of training examples = 39209\n",
      "Number of testing examples = 12630\n",
      "Image data shape = (32, 32, 3)\n",
      "Number of classes = 43\n"
     ]
    }
   ],
   "source": [
    "### Replace each question mark with the appropriate value.\n",
    "import numpy as np\n",
    "\n",
    "# TODO: Number of training examples\n",
    "n_train = X_train.shape[0]\n",
    "\n",
    "# TODO: Number of testing examples.\n",
    "n_test = X_test.shape[0]\n",
    "\n",
    "# TODO: What's the shape of an traffic sign image?\n",
    "image_shape = X_train.shape[1:]\n",
    "\n",
    "# TODO: How many unique classes/labels there are in the dataset.\n",
    "n_classes = len(np.unique(y_train))\n",
    "\n",
    "print(\"Number of training examples =\", n_train)\n",
    "print(\"Number of testing examples =\", n_test)\n",
    "print(\"Image data shape =\", image_shape)\n",
    "print(\"Number of classes =\", n_classes)"
   ]
  },
  {
   "cell_type": "markdown",
   "metadata": {},
   "source": [
    "Visualize the German Traffic Signs Dataset using the pickled file(s). This is open ended, suggestions include: plotting traffic sign images, plotting the count of each sign, etc.\n",
    "\n",
    "The [Matplotlib](http://matplotlib.org/) [examples](http://matplotlib.org/examples/index.html) and [gallery](http://matplotlib.org/gallery.html) pages are a great resource for doing visualizations in Python.\n",
    "\n",
    "**NOTE:** It's recommended you start with something simple first. If you wish to do more, come back to it after you've completed the rest of the sections."
   ]
  },
  {
   "cell_type": "code",
   "execution_count": 3,
   "metadata": {
    "collapsed": false
   },
   "outputs": [
    {
     "name": "stdout",
     "output_type": "stream",
     "text": [
      "{End of speed limit (80km/h): 420\n",
      "Pedestrians: 240\n",
      "Right-of-way at the next intersection: 1320\n",
      "Ahead only: 1200\n",
      "Vehicles over 3.5 metric tons prohibited: 420\n",
      "End of no passing: 240\n",
      "Speed limit (120km/h): 1410\n",
      "Dangerous curve to the left: 210\n",
      "Speed limit (60km/h): 1410\n",
      "Speed limit (20km/h): 210\n",
      "Speed limit (30km/h): 2220\n",
      "General caution: 1200\n",
      "End of all speed and passing limits: 240\n",
      "Go straight or left: 210\n",
      "Road work: 1500\n",
      "Speed limit (70km/h): 1980\n",
      "End of no passing by vehicles over 3.5 metric tons: 240\n",
      "Double curve: 330\n",
      "No entry: 1110\n",
      "No passing for vehicles over 3.5 metric tons: 2010\n",
      "Roundabout mandatory: 360\n",
      "Road narrows on the right: 270\n",
      "Turn right ahead: 689\n",
      "Priority road: 2100\n",
      "Dangerous curve to the right: 360\n",
      "Speed limit (100km/h): 1440\n",
      "Keep right: 2070\n",
      "Traffic signals: 600\n",
      "Slippery road: 510\n",
      "No passing: 1470\n",
      "Stop: 780\n",
      "No vehicles: 630\n",
      "Bumpy road: 390\n",
      "Wild animals crossing: 780\n",
      "Bicycles crossing: 270\n",
      "Speed limit (80km/h): 1860\n",
      "Go straight or right: 390\n",
      "Keep left: 300\n",
      "Speed limit (50km/h): 2250\n",
      "Children crossing: 540\n",
      "Turn left ahead: 420\n",
      "Yield: 2160\n",
      "Beware of ice/snow: 450}\n",
      "\n",
      "6 End of speed limit (80km/h)\n",
      "[[ 75  74  83 ...,  67  65  66]\n",
      " [ 82  80  87 ...,  73  75  79]\n",
      " [ 79  84  91 ...,  72  74  78]\n",
      " ..., \n",
      " [126 118 108 ...,  96  99  99]\n",
      " [ 90  91  77 ..., 104 107  95]\n",
      " [ 85  93  69 ..., 101  98  90]]\n"
     ]
    },
    {
     "data": {
      "image/png": "[encoded data removed]",
      "text/plain": [
       "<matplotlib.figure.Figure at 0x7fc3e34af898>"
      ]
     },
     "metadata": {},
     "output_type": "display_data"
    }
   ],
   "source": [
    "### Data exploration visualization goes here.\n",
    "### Feel free to use as many code cells as needed.\n",
    "import matplotlib.pyplot as plt\n",
    "# Visualizations will be shown in the notebook.\n",
    "%matplotlib inline\n",
    "\n",
    "import csv\n",
    "f = open('signnames.csv')\n",
    "csv_f = csv.reader(f)\n",
    "signnames = []\n",
    "first = True\n",
    "for row in csv_f:\n",
    "    if first:\n",
    "        first = False\n",
    "        continue\n",
    "    signnames.append(row[1])\n",
    "\n",
    "signnames_train = [signnames[i] for i in y_train]\n",
    "from collections import Counter\n",
    "c = Counter(signnames_train)\n",
    "print(\"{\" + \"\\n\".join(\"{}: {}\".format(k, v) for k, v in c.items()) + \"}\")\n",
    "\n",
    "import random\n",
    "import numpy as np\n",
    "\n",
    "index = random.randint(0, len(X_train))\n",
    "image = X_train[index].squeeze()\n",
    "\n",
    "print()\n",
    "plt.figure(figsize=(1,1))\n",
    "plt.imshow(image)\n",
    "print(y_train[index], signnames[y_train[index]])\n",
    "\n",
    "print(X_train[0, :, :, 0])"
   ]
  },
  {
   "cell_type": "markdown",
   "metadata": {},
   "source": [
    "----\n",
    "\n",
    "## Step 2: Design and Test a Model Architecture\n",
    "\n",
    "Design and implement a deep learning model that learns to recognize traffic signs. Train and test your model on the [German Traffic Sign Dataset](http://benchmark.ini.rub.de/?section=gtsrb&subsection=dataset).\n",
    "\n",
    "There are various aspects to consider when thinking about this problem:\n",
    "\n",
    "- Neural network architecture\n",
    "- Play around preprocessing techniques (normalization, rgb to grayscale, etc)\n",
    "- Number of examples per label (some have more than others).\n",
    "- Generate fake data.\n",
    "\n",
    "Here is an example of a [published baseline model on this problem](http://yann.lecun.com/exdb/publis/pdf/sermanet-ijcnn-11.pdf). It's not required to be familiar with the approach used in the paper but, it's good practice to try to read papers like these.\n",
    "\n",
    "**NOTE:** The LeNet-5 implementation shown in the [classroom](https://classroom.udacity.com/nanodegrees/nd013/parts/fbf77062-5703-404e-b60c-95b78b2f3f9e/modules/6df7ae49-c61c-4bb2-a23e-6527e69209ec/lessons/601ae704-1035-4287-8b11-e2c2716217ad/concepts/d4aca031-508f-4e0b-b493-e7b706120f81) at the end of the CNN lesson is a solid starting point. You'll have to change the number of classes and possibly the preprocessing, but aside from that it's plug and play!"
   ]
  },
  {
   "cell_type": "markdown",
   "metadata": {},
   "source": [
    "### Implementation\n",
    "\n",
    "Use the code cell (or multiple code cells, if necessary) to implement the first step of your project. Once you have completed your implementation and are satisfied with the results, be sure to thoroughly answer the questions that follow."
   ]
  },
  {
   "cell_type": "code",
   "execution_count": 4,
   "metadata": {
    "collapsed": true
   },
   "outputs": [],
   "source": [
    "### Preprocess the data here.\n",
    "### Feel free to use as many code cells as needed.\n",
    "\n",
    "#Normalize data\n",
    "X_train = np.divide(np.add(X_train, -128),128)\n",
    "X_test = np.divide(np.add(X_test, -128),128)\n"
   ]
  },
  {
   "cell_type": "markdown",
   "metadata": {},
   "source": [
    "### Question 1 \n",
    "\n",
    "_Describe how you preprocessed the data. Why did you choose that technique?_"
   ]
  },
  {
   "cell_type": "markdown",
   "metadata": {},
   "source": [
    "**Answer:** The RGB data is normalised (we subtract the mean and divide by variance). Changing RGB to YUV color scheme didn't prove to increase accuracy. "
   ]
  },
  {
   "cell_type": "code",
   "execution_count": 5,
   "metadata": {
    "collapsed": false
   },
   "outputs": [
    {
     "name": "stdout",
     "output_type": "stream",
     "text": [
      "(27446, 32, 32, 3) (27446,)\n",
      "(109784, 32, 32, 3) (109784,)\n"
     ]
    }
   ],
   "source": [
    "### Generate data additional data (OPTIONAL!)\n",
    "from sklearn.utils import shuffle\n",
    "X_train, y_train = shuffle(X_train, y_train)\n",
    "\n",
    "import cv2\n",
    "from random import randint\n",
    "\n",
    "def show(im):\n",
    "    print()\n",
    "    plt.figure(figsize=(1,1))\n",
    "    plt.imshow(im.squeeze())\n",
    "\n",
    "### and split the data into training/validation/testing sets here.\n",
    "### Feel free to use as many code cells as needed.\n",
    "from sklearn.model_selection import train_test_split\n",
    "X_train, X_validation, y_train, y_validation = train_test_split(X_train, y_train, test_size=0.3, stratify=y_train)\n",
    "\n",
    "print(X_train.shape, y_train.shape)\n",
    "boost = 3\n",
    "# create slight rotations of original images\n",
    "X_aug_r = []\n",
    "for im in X_train:\n",
    "    #show(im)\n",
    "    M = cv2.getRotationMatrix2D((randint(0,32),randint(0,32)),randint(-25,25),randint(7,13)/10)\n",
    "    im = cv2.warpAffine(im,M,(32,32))  \n",
    "    X_aug_r.append(im)  \n",
    "    #show(im)\n",
    "# create slight affine transformations of original set\n",
    "X_aug_a = []\n",
    "for im in X_train:\n",
    "    #show(im)\n",
    "    pts1 = np.float32([[randint(0,boost),randint(0,boost)],[randint(0,boost),randint(30-boost,31)],[randint(30-boost,31),randint(0,boost)]])\n",
    "    pts2 = np.float32([[randint(0,boost),randint(0,boost)],[randint(0,boost),randint(30-boost,31)],[randint(30-boost,31),randint(0,boost)]])\n",
    "    M = cv2.getAffineTransform(pts1,pts2)\n",
    "    im = cv2.warpAffine(im,M,(32,32)) \n",
    "    X_aug_a.append(im)\n",
    "    #show(im)\n",
    "X_aug_t = []\n",
    "for im in X_train:\n",
    "    #show(im)\n",
    "    M = np.float32([[1,0,randint(-boost,boost)],[0,1,randint(-boost,boost)]])\n",
    "    im = cv2.warpAffine(im,M,(32,32)) \n",
    "    X_aug_t.append(im)\n",
    "    #show(im)\n",
    "X_train = np.concatenate((X_train, X_aug_r, X_aug_a, X_aug_t), axis=0)\n",
    "y_train = np.concatenate((y_train, y_train, y_train, y_train), axis=0)\n",
    "print(X_train.shape, y_train.shape)\n",
    "\n",
    "from sklearn.utils import shuffle\n",
    "X_train, y_train = shuffle(X_train, y_train)"
   ]
  },
  {
   "cell_type": "markdown",
   "metadata": {},
   "source": [
    "### Question 2\n",
    "\n",
    "_Describe how you set up the training, validation and testing data for your model. **Optional**: If you generated additional data, how did you generate the data? Why did you generate the data? What are the differences in the new dataset (with generated data) from the original dataset?_"
   ]
  },
  {
   "cell_type": "markdown",
   "metadata": {},
   "source": [
    "**Answer:** First, we split out 30% of initial training set to be our validation set. The split is stratified against the labels as traffic signs are far from being uniformely distributed in the training set (see output of data visualisation set). After the split we want to increase remaining training examples by augmenting images and appending them to existing. (Augmentation is not to be done before the split as signs with the same origin may end up being present in both train and validation sets making them related). Here we use OpenCV to augment images in three following ways: random affine transformation (defined by slight movement of three points), random scaled rotation (defined by relatively small angle and scale), random crop (image is shifted by small number of pixels). Transformed images are added to the training set along with original images and all images are reshuffled."
   ]
  },
  {
   "cell_type": "code",
   "execution_count": 6,
   "metadata": {
    "collapsed": false
   },
   "outputs": [],
   "source": [
    "### Define your architecture here.\n",
    "### Feel free to use as many code cells as needed.\n",
    "import tensorflow as tf\n",
    "\n",
    "EPOCHS = 8\n",
    "BATCH_SIZE = 128\n",
    "\n",
    "from tensorflow.contrib.layers import flatten\n",
    "\n",
    "def TraficSignNet(x):    \n",
    "    # Hyperparameters\n",
    "    mu = 0\n",
    "    sigma = 0.1\n",
    "    \n",
    "    # Layer 1: Convolutional. Input = 32x32x3. Output = 28x28x12.\n",
    "    conv1_W = tf.Variable(tf.truncated_normal(shape=(5, 5, 3, 12), mean = mu, stddev = sigma))\n",
    "    conv1_b = tf.Variable(tf.zeros(12))\n",
    "    conv1   = tf.nn.conv2d(x, conv1_W, strides=[1, 1, 1, 1], padding='VALID') + conv1_b\n",
    "\n",
    "    # Relu Activation.\n",
    "    conv1 = tf.nn.relu(conv1)\n",
    "\n",
    "    # Pooling. Input = 28x28x12. Output = 14x14x12.\n",
    "    conv1 = tf.nn.max_pool(conv1, ksize=[1, 2, 2, 1], strides=[1, 2, 2, 1], padding='VALID')\n",
    "    \n",
    "    #  DROPOUT 0.75   \n",
    "    conv1 = tf.nn.dropout(conv1, keep_prob)\n",
    "\n",
    "    # Pooling. Input = 14x14x12. Output = 7x7x12.\n",
    "    ms_conv1 = tf.nn.max_pool(conv1, ksize=[1, 2, 2, 1], strides=[1, 2, 2, 1], padding='VALID')\n",
    "\n",
    "    # Layer 2: Convolutional. Output = 10x10x32.\n",
    "    conv2_W = tf.Variable(tf.truncated_normal(shape=(5, 5, 12, 32), mean = mu, stddev = sigma))\n",
    "    conv2_b = tf.Variable(tf.zeros(32))\n",
    "    conv2   = tf.nn.conv2d(conv1, conv2_W, strides=[1, 1, 1, 1], padding='VALID') + conv2_b\n",
    "    \n",
    "    # Relu Activation.\n",
    "    conv2 = tf.nn.relu(conv2)\n",
    "\n",
    "    # Pooling. Input = 10x10x32. Output = 5x5x32.\n",
    "    conv2 = tf.nn.max_pool(conv2, ksize=[1, 2, 2, 1], strides=[1, 2, 2, 1], padding='VALID')\n",
    "    \n",
    "    #  DROPOUT 0.75   \n",
    "    conv2 = tf.nn.dropout(conv2, keep_prob)\n",
    "\n",
    "    # Flatten. Inputs = 5x5x32 + 7x7x12. Output = 1388.\n",
    "    fc0   = flatten(conv2)\n",
    "    ms_fc0   = flatten(ms_conv1)\n",
    "    fc0 = tf.concat(1, [fc0, ms_fc0])\n",
    "    \n",
    "    # Layer 3: Fully Connected. Input = 1388. Output = 960.\n",
    "    fc1_W = tf.Variable(tf.truncated_normal(shape=(1388, 960), mean = mu, stddev = sigma))\n",
    "    fc1_b = tf.Variable(tf.zeros(960))\n",
    "    fc1   = tf.matmul(fc0, fc1_W) + fc1_b\n",
    "    \n",
    "    # Relu Activation.\n",
    "    fc1    = tf.nn.relu(fc1)\n",
    "    \n",
    "    #  DROPOUT 0.75   \n",
    "    fc1 = tf.nn.dropout(fc1, keep_prob)\n",
    "\n",
    "    # Layer 4: Fully Connected. Input = 960. Output = 480.\n",
    "    fc2_W  = tf.Variable(tf.truncated_normal(shape=(960, 480), mean = mu, stddev = sigma))\n",
    "    fc2_b  = tf.Variable(tf.zeros(480))\n",
    "    fc2    = tf.matmul(fc1, fc2_W) + fc2_b\n",
    "    \n",
    "    # Relu Activation.\n",
    "    fc2    = tf.nn.relu(fc2)\n",
    "    \n",
    "    #  DROPOUT 0.75   \n",
    "    fc2 = tf.nn.dropout(fc2, keep_prob)\n",
    "\n",
    "    # Layer 5: Fully Connected. Input = 480. Output = 240.\n",
    "    fc3_W  = tf.Variable(tf.truncated_normal(shape=(480, 240), mean = mu, stddev = sigma))\n",
    "    fc3_b  = tf.Variable(tf.zeros(240))\n",
    "    fc3    = tf.matmul(fc2, fc3_W) + fc3_b\n",
    "    \n",
    "    # SOLUTION: Activation.\n",
    "    fc3    = tf.nn.relu(fc3)\n",
    "    \n",
    "    #  DROPOUT 0.5   \n",
    "    fc3 = tf.nn.dropout(fc3, keep_prob)\n",
    "\n",
    "    # Layer 6: Fully Connected. Input = 240. Output = 120.\n",
    "    fc4_W  = tf.Variable(tf.truncated_normal(shape=(240, 120), mean = mu, stddev = sigma))\n",
    "    fc4_b  = tf.Variable(tf.zeros(120))\n",
    "    fc4    = tf.matmul(fc3, fc4_W) + fc4_b\n",
    "    \n",
    "    # Relu Activation.\n",
    "    fc4    = tf.nn.relu(fc4)\n",
    "    \n",
    "    #  DROPOUT 0.5   \n",
    "    fc4 = tf.nn.dropout(fc4, keep_prob)\n",
    "\n",
    "    # Layer 7: Fully Connected. Input = 120. Output = 43.\n",
    "    fc5_W  = tf.Variable(tf.truncated_normal(shape=(120, 43), mean = mu, stddev = sigma))\n",
    "    fc5_b  = tf.Variable(tf.zeros(43))\n",
    "    logits = tf.matmul(fc4, fc5_W) + fc5_b\n",
    "    \n",
    "    return logits\n",
    "\n",
    "\n",
    "x = tf.placeholder(tf.float32, (None, 32, 32, 3))\n",
    "y = tf.placeholder(tf.int32, (None))\n",
    "keep_prob = tf.placeholder(tf.float32) \n",
    "one_hot_y = tf.one_hot(y, 43)\n",
    "\n",
    "rate = 0.001\n",
    "\n",
    "logits = TraficSignNet(x)\n",
    "cross_entropy = tf.nn.softmax_cross_entropy_with_logits(logits, one_hot_y)\n",
    "loss_operation = tf.reduce_mean(cross_entropy)\n",
    "optimizer = tf.train.AdamOptimizer(learning_rate = rate)\n",
    "training_operation = optimizer.minimize(loss_operation)\n",
    "\n",
    "correct_prediction = tf.equal(tf.argmax(logits, 1), tf.argmax(one_hot_y, 1))\n",
    "accuracy_operation = tf.reduce_mean(tf.cast(correct_prediction, tf.float32))\n",
    "saver = tf.train.Saver()\n",
    "\n",
    "def evaluate(X_data, y_data):\n",
    "    num_examples = len(X_data)\n",
    "    total_accuracy = 0\n",
    "    sess = tf.get_default_session()\n",
    "    for offset in range(0, num_examples, BATCH_SIZE):\n",
    "        batch_x, batch_y = X_data[offset:offset+BATCH_SIZE], y_data[offset:offset+BATCH_SIZE]\n",
    "        accuracy = sess.run(accuracy_operation, feed_dict={x: batch_x, y: batch_y, keep_prob: 1.0})\n",
    "        total_accuracy += (accuracy * len(batch_x))\n",
    "    return total_accuracy / num_examples"
   ]
  },
  {
   "cell_type": "markdown",
   "metadata": {},
   "source": [
    "### Question 3\n",
    "\n",
    "_What does your final architecture look like? (Type of model, layers, sizes, connectivity, etc.)  For reference on how to build a deep neural network using TensorFlow, see [Deep Neural Network in TensorFlow\n",
    "](https://classroom.udacity.com/nanodegrees/nd013/parts/fbf77062-5703-404e-b60c-95b78b2f3f9e/modules/6df7ae49-c61c-4bb2-a23e-6527e69209ec/lessons/b516a270-8600-4f93-a0a3-20dfeabe5da6/concepts/83a3a2a2-a9bd-4b7b-95b0-eb924ab14432) from the classroom._\n"
   ]
  },
  {
   "cell_type": "markdown",
   "metadata": {},
   "source": [
    "**Answer:** The final architecture is a multi-scale convolutional network with two convolutions ([5*5*12] and [5*5*32]) each followed by Relu activation, 2*2 pooling and 0.75 dropout layers. Then it is followed by five fully connected layers ([1388 to 960], [960 to 480], [480 to 240], [240 to 120], [120 to 43 classes]) with Relu activation and 0.75 dropout after each layer apart from the last one that produces 43 logits. 1388 dimention in the first fully connected layer is comprised by the flattened output of the second convolution and flattened output of the first convolution taken through yet another 2 by 2 pooling layer. Multi-scaling idea is taken from the article by Sermanet and LeCun describing impressive results obtained by Sermanet MS convolutional network on the same traffic sign dataset. The purpose of passing both convolution outputs to fully connected layers is to let the network take into account either less elaborated and more elaborated features for predictions. "
   ]
  },
  {
   "cell_type": "code",
   "execution_count": 7,
   "metadata": {
    "collapsed": false,
    "scrolled": false
   },
   "outputs": [
    {
     "name": "stdout",
     "output_type": "stream",
     "text": [
      "Training...\n",
      "\n",
      "2017-01-09 15:53:15.227780\n",
      "EPOCH 1 ...\n",
      "Validation Accuracy = 0.732\n",
      "\n",
      "2017-01-09 15:54:52.320588\n",
      "EPOCH 2 ...\n",
      "Validation Accuracy = 0.883\n",
      "\n",
      "2017-01-09 15:56:30.048817\n",
      "EPOCH 3 ...\n",
      "Validation Accuracy = 0.956\n",
      "\n",
      "2017-01-09 15:58:08.060100\n",
      "EPOCH 4 ...\n",
      "Validation Accuracy = 0.977\n",
      "\n",
      "2017-01-09 15:59:47.005976\n",
      "EPOCH 5 ...\n",
      "Validation Accuracy = 0.986\n",
      "\n",
      "2017-01-09 16:01:25.933194\n",
      "EPOCH 6 ...\n",
      "Validation Accuracy = 0.978\n",
      "\n",
      "2017-01-09 16:03:05.293340\n",
      "EPOCH 7 ...\n",
      "Validation Accuracy = 0.986\n",
      "\n",
      "2017-01-09 16:04:45.030026\n",
      "EPOCH 8 ...\n",
      "Validation Accuracy = 0.990\n",
      "\n",
      "2017-01-09 16:06:25.314556\n",
      "Model saved\n"
     ]
    }
   ],
   "source": [
    "### Train your model here.\n",
    "### Feel free to use as many code cells as needed.\n",
    "import time\n",
    "import datetime\n",
    "\n",
    "def gettime():\n",
    "    time = datetime.datetime.utcnow()\n",
    "    print(time)\n",
    "\n",
    "with tf.Session() as sess:\n",
    "    sess.run(tf.global_variables_initializer())\n",
    "    num_examples = len(X_train)\n",
    "    \n",
    "    print(\"Training...\")\n",
    "    print()\n",
    "    for i in range(EPOCHS):\n",
    "        gettime()\n",
    "        X_train, y_train = shuffle(X_train, y_train)\n",
    "        for offset in range(0, num_examples, BATCH_SIZE):\n",
    "            end = offset + BATCH_SIZE\n",
    "            batch_x, batch_y = X_train[offset:end], y_train[offset:end]\n",
    "            sess.run(training_operation, feed_dict={x: batch_x, y: batch_y, keep_prob: 0.75})\n",
    "            \n",
    "        validation_accuracy = evaluate(X_validation, y_validation)\n",
    "        print(\"EPOCH {} ...\".format(i+1))\n",
    "        print(\"Validation Accuracy = {:.3f}\".format(validation_accuracy))\n",
    "        print()\n",
    "      \n",
    "    gettime()\n",
    "    saver.save(sess, 'traficsignNet')\n",
    "    print(\"Model saved\")    "
   ]
  },
  {
   "cell_type": "code",
   "execution_count": 8,
   "metadata": {
    "collapsed": false
   },
   "outputs": [
    {
     "name": "stdout",
     "output_type": "stream",
     "text": [
      "Test Accuracy = 0.896\n"
     ]
    }
   ],
   "source": [
    "# TEST ON TEST SET DO NOT RUN\n",
    "import tensorflow as tf\n",
    "\n",
    "with tf.Session() as sess:    \n",
    "    saver.restore(sess, tf.train.latest_checkpoint('.'))\n",
    "\n",
    "    test_accuracy = evaluate(X_test, y_test)\n",
    "    print(\"Test Accuracy = {:.3f}\".format(test_accuracy))"
   ]
  },
  {
   "cell_type": "markdown",
   "metadata": {},
   "source": [
    "### Question 4\n",
    "\n",
    "_How did you train your model? (Type of optimizer, batch size, epochs, hyperparameters, etc.)_\n"
   ]
  },
  {
   "cell_type": "markdown",
   "metadata": {},
   "source": [
    "**Answer:** Training process minimises loss function that is a cross-entropy calculated on the probabilities calculated as SoftMax of logits and one-hot encoded labels. It uses AdamOptimiser that is an improved version of gradient descent optimiser. The learning rate is 0.001 and the batch size is 128. Network is trained 10 epochs. "
   ]
  },
  {
   "cell_type": "markdown",
   "metadata": {},
   "source": [
    "### Question 5\n",
    "\n",
    "\n",
    "_What approach did you take in coming up with a solution to this problem? It may have been a process of trial and error, in which case, outline the steps you took to get to the final solution and why you chose those steps. Perhaps your solution involved an already well known implementation or architecture. In this case, discuss why you think this is suitable for the current problem._"
   ]
  },
  {
   "cell_type": "markdown",
   "metadata": {},
   "source": [
    "**Answer:** To come up with the network architecture I used combination of solution presented in the article by Sermanet and LeCun and trial and error. First, I have explored the given dataset as to see how labels are distributed in the training set and see examples of images from different labes. It resulted in YUV color scheme change not being used and I ended up simply nomalising RBG color channels for images. Label classes being different in magnitude resulted in stratification being used for validation set split. Then initially LeNet architecture was utilised and gave 0.96 accuracy on original training set. For sensible trial and error in terms of network architecture I did more reading on dropout process, validation procedure and general practices for convolutional networks. The best result was obtained by adding multi-scaling to the first of two 5 by 5 convolutions and increasing number, depth and width of fully connected layers. Dropout was added to reqularise network to prevent overfitting. After the dropout was added it became clear that we need larger training set, so image augmentation was introduced. I have used OpenCV because it was already installed for us for Project2, but augmentation and jitterring can be done by various means. The image transformations I chose are supposed to reflect real distortions that can hapen when using vechicle camera.   "
   ]
  },
  {
   "cell_type": "markdown",
   "metadata": {},
   "source": [
    "---\n",
    "\n",
    "## Step 3: Test a Model on New Images\n",
    "\n",
    "Take several pictures of traffic signs that you find on the web or around you (at least five), and run them through your classifier on your computer to produce example results. The classifier might not recognize some local signs but it could prove interesting nonetheless.\n",
    "\n",
    "You may find `signnames.csv` useful as it contains mappings from the class id (integer) to the actual sign name."
   ]
  },
  {
   "cell_type": "markdown",
   "metadata": {},
   "source": [
    "### Implementation\n",
    "\n",
    "Use the code cell (or multiple code cells, if necessary) to implement the first step of your project. Once you have completed your implementation and are satisfied with the results, be sure to thoroughly answer the questions that follow."
   ]
  },
  {
   "cell_type": "code",
   "execution_count": 13,
   "metadata": {
    "collapsed": false
   },
   "outputs": [
    {
     "name": "stdout",
     "output_type": "stream",
     "text": [
      "(32, 32, 3)\n",
      "\n",
      "(32, 32, 3)\n",
      "\n",
      "(32, 32, 3)\n",
      "\n",
      "(32, 32, 3)\n",
      "\n",
      "(32, 32, 3)\n",
      "\n",
      "[ 0.40784314  0.48627451  0.51372552]\n"
     ]
    },
    {
     "data": {
      "image/png": "[encoded data removed]",
      "text/plain": [
       "<matplotlib.figure.Figure at 0x7fc3a47b2be0>"
      ]
     },
     "metadata": {},
     "output_type": "display_data"
    },
    {
     "data": {
      "image/png": "[encoded data removed]",
      "text/plain": [
       "<matplotlib.figure.Figure at 0x7fc3a40e2b38>"
      ]
     },
     "metadata": {},
     "output_type": "display_data"
    },
    {
     "data": {
      "image/png": "[encoded data removed]",
      "text/plain": [
       "<matplotlib.figure.Figure at 0x7fc39d5da080>"
      ]
     },
     "metadata": {},
     "output_type": "display_data"
    },
    {
     "data": {
      "image/png": "[encoded data removed]",
      "text/plain": [
       "<matplotlib.figure.Figure at 0x7fc3a40cd390>"
      ]
     },
     "metadata": {},
     "output_type": "display_data"
    },
    {
     "data": {
      "image/png": "[encoded data removed]",
      "text/plain": [
       "<matplotlib.figure.Figure at 0x7fc3a40bdef0>"
      ]
     },
     "metadata": {},
     "output_type": "display_data"
    }
   ],
   "source": [
    "### Load the images and plot them here.\n",
    "### Feel free to use as many code cells as needed.\n",
    "test_images = np.zeros((6,32,32,3))\n",
    "import matplotlib.image as mpimg\n",
    "\n",
    "def load_test_image(image_number):\n",
    "    im = mpimg.imread('./test_images/'+ str(image_number) + '.png') # 640x480x3 array\n",
    "    print(im.shape)\n",
    "    show(im)\n",
    "    return im\n",
    "\n",
    "for i in (1,2,4,5,6):\n",
    "    test_images[i-1] = load_test_image(i)\n",
    "    \n",
    "print(test_images[1,1,5,:])\n",
    "    \n",
    "# Normilize test images   \n",
    "test_images = np.divide(np.add(test_images, -128),128)\n",
    "    \n",
    "test_labels = [34,34,0,1,28]"
   ]
  },
  {
   "cell_type": "markdown",
   "metadata": {},
   "source": [
    "### Question 6\n",
    "\n",
    "_Choose five candidate images of traffic signs and provide them in the report. Are there any particular qualities of the image(s) that might make classification difficult? It could be helpful to plot the images in the notebook._\n",
    "\n"
   ]
  },
  {
   "cell_type": "markdown",
   "metadata": {},
   "source": [
    "**Answer:** 6 new 32 by 32 images containing traffic signs are added to test the model. In one of them the traffic sign is shifted to the left, in two rotated, in one partly covered by leaves, two have curves in the background. Some images have poor quality. "
   ]
  },
  {
   "cell_type": "code",
   "execution_count": 10,
   "metadata": {
    "collapsed": false
   },
   "outputs": [
    {
     "name": "stdout",
     "output_type": "stream",
     "text": [
      "[25 25 25 25  4  4]\n"
     ]
    }
   ],
   "source": [
    "### Run the predictions here.\n",
    "### Feel free to use as many code cells as needed.with tf.Session() as sess:    \n",
    "\n",
    "with tf.Session() as sess:    \n",
    "    saver.restore(sess, tf.train.latest_checkpoint('.'))\n",
    "    \n",
    "    logits = sess.run(logits, feed_dict={x: test_images, y: test_labels, keep_prob: 1.0})\n",
    "    #test_accuracy = evaluate(test_images, test_labels)\n",
    "    #print(\"Test Accuracy = {:.3f}\".format(test_accuracy))\n",
    "    print(np.argmax(logits,axis=1))"
   ]
  },
  {
   "cell_type": "markdown",
   "metadata": {},
   "source": [
    "### Question 7\n",
    "\n",
    "_Is your model able to perform equally well on captured pictures when compared to testing on the dataset? The simplest way to do this check the accuracy of the predictions. For example, if the model predicted 1 out of 5 signs correctly, it's 20% accurate._\n",
    "\n",
    "_**NOTE:** You could check the accuracy manually by using `signnames.csv` (same directory). This file has a mapping from the class id (0-42) to the corresponding sign name. So, you could take the class id the model outputs, lookup the name in `signnames.csv` and see if it matches the sign from the image._\n"
   ]
  },
  {
   "cell_type": "markdown",
   "metadata": {},
   "source": [
    "**Answer:**"
   ]
  },
  {
   "cell_type": "code",
   "execution_count": 12,
   "metadata": {
    "collapsed": false
   },
   "outputs": [
    {
     "name": "stdout",
     "output_type": "stream",
     "text": [
      "[[  9.98687814e-04   3.36605199e-02   2.34747063e-02   7.78385997e-02\n",
      "    2.12037861e-01   3.87215950e-02   4.53354605e-02   1.31748747e-02\n",
      "    1.50472624e-02   6.08304376e-03   6.25044061e-03   1.09286634e-02\n",
      "    1.00021334e-02   1.55107146e-02   6.50724920e-04   4.58157534e-04\n",
      "    3.09114490e-04   2.96077254e-04   9.73257646e-02   1.20396474e-02\n",
      "    6.69681607e-03   2.19439203e-03   5.22272894e-04   2.46378384e-03\n",
      "    1.44427819e-02   2.66494095e-01   1.97901502e-02   8.53190606e-04\n",
      "    5.78061212e-03   9.44409403e-04   3.98667110e-03   1.23990076e-02\n",
      "    5.11208433e-04   5.74089168e-03   1.06229389e-03   3.08614806e-03\n",
      "    5.82318101e-03   3.26922273e-05   1.49094258e-02   2.07977532e-03\n",
      "    6.94076624e-03   4.75163572e-04   2.62620556e-03]\n",
      " [  1.05709548e-03   3.61972004e-02   2.51534861e-02   8.15500915e-02\n",
      "    2.15458408e-01   4.08027023e-02   4.75054346e-02   1.36162890e-02\n",
      "    1.54383248e-02   6.34619081e-03   6.36691693e-03   1.14292083e-02\n",
      "    1.02223065e-02   1.56664513e-02   6.95807859e-04   4.79355047e-04\n",
      "    3.30132752e-04   3.06266011e-04   9.15154517e-02   1.15657272e-02\n",
      "    6.37695147e-03   2.22522439e-03   5.07851655e-04   2.45484198e-03\n",
      "    1.36195198e-02   2.55788833e-01   1.86231639e-02   8.26213858e-04\n",
      "    5.64101664e-03   9.51053866e-04   3.89928720e-03   1.20129474e-02\n",
      "    5.73181314e-04   5.78540517e-03   1.11258845e-03   3.26095126e-03\n",
      "    5.96510712e-03   3.42904314e-05   1.55255366e-02   2.03603250e-03\n",
      "    7.77511904e-03   5.08986239e-04   2.79304851e-03]\n",
      " [  1.42271002e-03   4.19493690e-02   2.54815836e-02   7.47835338e-02\n",
      "    2.05893695e-01   4.20454778e-02   4.34996001e-02   1.44160558e-02\n",
      "    1.58540346e-02   5.95802814e-03   6.47335080e-03   1.23718111e-02\n",
      "    1.05787273e-02   1.46490289e-02   9.90829081e-04   4.53435205e-04\n",
      "    3.65434418e-04   3.52749776e-04   9.31065679e-02   1.25270011e-02\n",
      "    5.85255912e-03   2.76894728e-03   5.43819508e-04   2.49520689e-03\n",
      "    1.56452414e-02   2.62856871e-01   2.17707437e-02   1.03730743e-03\n",
      "    6.11017458e-03   1.08188100e-03   4.21851780e-03   1.25239212e-02\n",
      "    5.30417834e-04   4.55196016e-03   1.06111588e-03   2.86625372e-03\n",
      "    4.88517294e-03   3.50216978e-05   1.37806954e-02   1.76341250e-03\n",
      "    7.47718383e-03   4.73642547e-04   2.49684229e-03]\n",
      " [  1.36136531e-03   4.10423018e-02   2.64132414e-02   8.06958154e-02\n",
      "    2.14009792e-01   4.44437675e-02   4.41049673e-02   1.49364322e-02\n",
      "    1.68212410e-02   6.28469884e-03   6.73326803e-03   1.19697684e-02\n",
      "    1.02294264e-02   1.47394519e-02   9.20715567e-04   4.61697666e-04\n",
      "    3.73954419e-04   3.41149658e-04   8.83565918e-02   1.22358948e-02\n",
      "    5.96838351e-03   2.50666868e-03   5.17405395e-04   2.43148790e-03\n",
      "    1.46443928e-02   2.52494991e-01   2.02877782e-02   9.45678970e-04\n",
      "    5.92441857e-03   1.03161775e-03   4.09130659e-03   1.24748368e-02\n",
      "    5.47145843e-04   4.77703661e-03   1.07427605e-03   2.88745225e-03\n",
      "    4.77637025e-03   3.42554813e-05   1.39229689e-02   1.75953482e-03\n",
      "    7.39841862e-03   4.74132044e-04   2.55381665e-03]\n",
      " [  1.44801929e-03   4.28811014e-02   2.65912898e-02   8.39389935e-02\n",
      "    2.31927827e-01   4.71615456e-02   4.58222851e-02   1.58708673e-02\n",
      "    1.79661270e-02   6.22986769e-03   6.79074787e-03   1.11731337e-02\n",
      "    9.59431473e-03   1.37003120e-02   9.37947887e-04   4.57389891e-04\n",
      "    3.86905187e-04   3.21699510e-04   8.85126665e-02   1.21273845e-02\n",
      "    5.45249274e-03   2.19113426e-03   4.59344737e-04   2.18634703e-03\n",
      "    1.45357894e-02   2.30985731e-01   2.03293525e-02   9.01578343e-04\n",
      "    5.51238284e-03   9.27981571e-04   3.80747882e-03   1.17011182e-02\n",
      "    5.39902074e-04   4.45813639e-03   1.04946306e-03   2.66943453e-03\n",
      "    4.39470215e-03   3.03415145e-05   1.24862557e-02   1.63728127e-03\n",
      "    6.96916040e-03   4.54420748e-04   2.47972272e-03]\n",
      " [  1.50134042e-03   4.38717380e-02   2.71029063e-02   8.16040337e-02\n",
      "    2.37519845e-01   4.88394648e-02   4.68522087e-02   1.71942748e-02\n",
      "    1.92173403e-02   6.10349979e-03   7.03912647e-03   1.10278055e-02\n",
      "    9.53557249e-03   1.33132143e-02   9.75081639e-04   4.73148393e-04\n",
      "    4.22256853e-04   3.31313116e-04   8.94860253e-02   1.26650129e-02\n",
      "    5.41626802e-03   2.25872803e-03   4.62685828e-04   2.21180101e-03\n",
      "    1.50790708e-02   2.17999279e-01   2.13961117e-02   9.51201189e-04\n",
      "    5.50683681e-03   9.25448840e-04   3.95978708e-03   1.22311553e-02\n",
      "    5.33199112e-04   4.41901665e-03   1.05741399e-03   2.55369442e-03\n",
      "    4.24292777e-03   3.11544682e-05   1.22964587e-02   1.66092452e-03\n",
      "    6.76816888e-03   4.59250703e-04   2.50414992e-03]]\n",
      "TopKV2(values=array([[ 0.2664941 ,  0.21203786,  0.09732576,  0.0778386 ,  0.04533546],\n",
      "       [ 0.25578883,  0.21545841,  0.09151545,  0.08155009,  0.04750543],\n",
      "       [ 0.26285687,  0.2058937 ,  0.09310657,  0.07478353,  0.0434996 ],\n",
      "       [ 0.25249499,  0.21400979,  0.08835659,  0.08069582,  0.04444377],\n",
      "       [ 0.23192783,  0.23098573,  0.08851267,  0.08393899,  0.04716155],\n",
      "       [ 0.23751985,  0.21799928,  0.08948603,  0.08160403,  0.04883946]], dtype=float32), indices=array([[25,  4, 18,  3,  6],\n",
      "       [25,  4, 18,  3,  6],\n",
      "       [25,  4, 18,  3,  6],\n",
      "       [25,  4, 18,  3,  5],\n",
      "       [ 4, 25, 18,  3,  5],\n",
      "       [ 4, 25, 18,  3,  5]], dtype=int32))\n"
     ]
    }
   ],
   "source": [
    "### Visualize the softmax probabilities here.\n",
    "### Feel free to use as many code cells as needed.\n",
    "softmax = tf.nn.softmax(logits)\n",
    "top_n = (tf.nn.top_k(softmax, k=5))\n",
    "\n",
    "with tf.Session() as sess:    \n",
    "    saver.restore(sess, tf.train.latest_checkpoint('.'))\n",
    "    \n",
    "    softmax = sess.run(softmax, feed_dict={x: test_images, y: test_labels, keep_prob: 1.0})\n",
    "    print(softmax)\n",
    "    \n",
    "with tf.Session() as sess:    \n",
    "    saver.restore(sess, tf.train.latest_checkpoint('.'))\n",
    "    \n",
    "    top_n = sess.run(top_n, feed_dict={x: test_images, y: test_labels, keep_prob: 1.0})\n",
    "    print(top_n)"
   ]
  },
  {
   "cell_type": "markdown",
   "metadata": {},
   "source": [
    "### Question 8\n",
    "\n",
    "*Use the model's softmax probabilities to visualize the **certainty** of its predictions, [`tf.nn.top_k`](https://www.tensorflow.org/versions/r0.12/api_docs/python/nn.html#top_k) could prove helpful here. Which predictions is the model certain of? Uncertain? If the model was incorrect in its initial prediction, does the correct prediction appear in the top k? (k should be 5 at most)*\n",
    "\n",
    "`tf.nn.top_k` will return the values and indices (class ids) of the top k predictions. So if k=3, for each sign, it'll return the 3 largest probabilities (out of a possible 43) and the correspoding class ids.\n",
    "\n",
    "Take this numpy array as an example:\n",
    "\n",
    "```\n",
    "# (5, 6) array\n",
    "a = np.array([[ 0.24879643,  0.07032244,  0.12641572,  0.34763842,  0.07893497,\n",
    "         0.12789202],\n",
    "       [ 0.28086119,  0.27569815,  0.08594638,  0.0178669 ,  0.18063401,\n",
    "         0.15899337],\n",
    "       [ 0.26076848,  0.23664738,  0.08020603,  0.07001922,  0.1134371 ,\n",
    "         0.23892179],\n",
    "       [ 0.11943333,  0.29198961,  0.02605103,  0.26234032,  0.1351348 ,\n",
    "         0.16505091],\n",
    "       [ 0.09561176,  0.34396535,  0.0643941 ,  0.16240774,  0.24206137,\n",
    "         0.09155967]])\n",
    "```\n",
    "\n",
    "Running it through `sess.run(tf.nn.top_k(tf.constant(a), k=3))` produces:\n",
    "\n",
    "```\n",
    "TopKV2(values=array([[ 0.34763842,  0.24879643,  0.12789202],\n",
    "       [ 0.28086119,  0.27569815,  0.18063401],\n",
    "       [ 0.26076848,  0.23892179,  0.23664738],\n",
    "       [ 0.29198961,  0.26234032,  0.16505091],\n",
    "       [ 0.34396535,  0.24206137,  0.16240774]]), indices=array([[3, 0, 5],\n",
    "       [0, 1, 4],\n",
    "       [0, 5, 1],\n",
    "       [1, 3, 5],\n",
    "       [1, 4, 3]], dtype=int32))\n",
    "```\n",
    "\n",
    "Looking just at the first row we get `[ 0.34763842,  0.24879643,  0.12789202]`, you can confirm these are the 3 largest probabilities in `a`. You'll also notice `[3, 0, 5]` are the corresponding indices."
   ]
  },
  {
   "cell_type": "markdown",
   "metadata": {},
   "source": [
    "**Answer:**"
   ]
  },
  {
   "cell_type": "markdown",
   "metadata": {},
   "source": [
    "> **Note**: Once you have completed all of the code implementations and successfully answered each question above, you may finalize your work by exporting the iPython Notebook as an HTML document. You can do this by using the menu above and navigating to  \\n\",\n",
    "    \"**File -> Download as -> HTML (.html)**. Include the finished document along with this notebook as your submission."
   ]
  },
  {
   "cell_type": "code",
   "execution_count": null,
   "metadata": {
    "collapsed": true
   },
   "outputs": [],
   "source": []
  }
 ],
 "metadata": {
  "anaconda-cloud": {},
  "kernelspec": {
   "display_name": "Python 3",
   "language": "python",
   "name": "python3"
  },
  "language_info": {
   "codemirror_mode": {
    "name": "ipython",
    "version": 3
   },
   "file_extension": ".py",
   "mimetype": "text/x-python",
   "name": "python",
   "nbconvert_exporter": "python",
   "pygments_lexer": "ipython3",
   "version": "3.5.2"
  },
  "widgets": {
   "state": {},
   "version": "1.1.2"
  }
 },
 "nbformat": 4,
 "nbformat_minor": 1
}
